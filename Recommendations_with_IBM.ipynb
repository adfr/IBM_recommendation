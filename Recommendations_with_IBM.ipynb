{
 "cells": [
  {
   "cell_type": "markdown",
   "metadata": {},
   "source": [
    "# Recommendations with IBM\n",
    "\n",
    "In this notebook, you will be putting your recommendation skills to use on real data from the IBM Watson Studio platform. \n",
    "\n",
    "\n",
    "You may either submit your notebook through the workspace here, or you may work from your local machine and submit through the next page.  Either way assure that your code passes the project [RUBRIC](Need to update this).  **Please save regularly.**\n",
    "\n",
    "By following the table of contents, you will build out a number of different methods for making recommendations that can be used for different situations. \n",
    "\n",
    "\n",
    "## Table of Contents\n",
    "\n",
    "I. [Exploratory Data Analysis](#Exploratory-Data-Analysis)<br>\n",
    "II. [Rank Based Recommendations](#Rank)<br>\n",
    "III. [User-User Based Collaborative Filtering](#User-User)<br>\n",
    "IV. [Content Based Recommendations (EXTRA - NOT REQUIRED)](#Content-Recs)<br>\n",
    "V. [Matrix Factorization](#Matrix-Fact)<br>\n",
    "VI. [Extras & Concluding](#conclusions)\n",
    "\n",
    "At the end of the notebook, you will find directions for how to submit your work.  Let's get started by importing the necessary libraries and reading in the data."
   ]
  },
  {
   "cell_type": "code",
   "execution_count": 1,
   "metadata": {},
   "outputs": [
    {
     "name": "stdout",
     "output_type": "stream",
     "text": [
      "(45993, 3) (1056, 5)\n"
     ]
    }
   ],
   "source": [
    "import pandas as pd\n",
    "import numpy as np\n",
    "import matplotlib.pyplot as plt\n",
    "import project_tests as t\n",
    "\n",
    "%matplotlib inline\n",
    "\n",
    "df = pd.read_csv('data/user-item-interactions.csv')\n",
    "df_content = pd.read_csv('data/articles_community.csv')\n",
    "del df['Unnamed: 0']\n",
    "del df_content['Unnamed: 0']\n",
    "\n",
    "# Show df to get an idea of the data\n",
    "df.head()\n",
    "print(df.shape, df_content.shape)"
   ]
  },
  {
   "cell_type": "code",
   "execution_count": 2,
   "metadata": {},
   "outputs": [
    {
     "data": {
      "text/html": [
       "<div>\n",
       "<style scoped>\n",
       "    .dataframe tbody tr th:only-of-type {\n",
       "        vertical-align: middle;\n",
       "    }\n",
       "\n",
       "    .dataframe tbody tr th {\n",
       "        vertical-align: top;\n",
       "    }\n",
       "\n",
       "    .dataframe thead th {\n",
       "        text-align: right;\n",
       "    }\n",
       "</style>\n",
       "<table border=\"1\" class=\"dataframe\">\n",
       "  <thead>\n",
       "    <tr style=\"text-align: right;\">\n",
       "      <th></th>\n",
       "      <th>doc_body</th>\n",
       "      <th>doc_description</th>\n",
       "      <th>doc_full_name</th>\n",
       "      <th>doc_status</th>\n",
       "      <th>article_id</th>\n",
       "    </tr>\n",
       "  </thead>\n",
       "  <tbody>\n",
       "    <tr>\n",
       "      <th>0</th>\n",
       "      <td>Skip navigation Sign in SearchLoading...\\r\\n\\r...</td>\n",
       "      <td>Detect bad readings in real time using Python ...</td>\n",
       "      <td>Detect Malfunctioning IoT Sensors with Streami...</td>\n",
       "      <td>Live</td>\n",
       "      <td>0</td>\n",
       "    </tr>\n",
       "    <tr>\n",
       "      <th>1</th>\n",
       "      <td>No Free Hunch Navigation * kaggle.com\\r\\n\\r\\n ...</td>\n",
       "      <td>See the forest, see the trees. Here lies the c...</td>\n",
       "      <td>Communicating data science: A guide to present...</td>\n",
       "      <td>Live</td>\n",
       "      <td>1</td>\n",
       "    </tr>\n",
       "    <tr>\n",
       "      <th>2</th>\n",
       "      <td>☰ * Login\\r\\n * Sign Up\\r\\n\\r\\n * Learning Pat...</td>\n",
       "      <td>Here’s this week’s news in Data Science and Bi...</td>\n",
       "      <td>This Week in Data Science (April 18, 2017)</td>\n",
       "      <td>Live</td>\n",
       "      <td>2</td>\n",
       "    </tr>\n",
       "    <tr>\n",
       "      <th>3</th>\n",
       "      <td>DATALAYER: HIGH THROUGHPUT, LOW LATENCY AT SCA...</td>\n",
       "      <td>Learn how distributed DBs solve the problem of...</td>\n",
       "      <td>DataLayer Conference: Boost the performance of...</td>\n",
       "      <td>Live</td>\n",
       "      <td>3</td>\n",
       "    </tr>\n",
       "    <tr>\n",
       "      <th>4</th>\n",
       "      <td>Skip navigation Sign in SearchLoading...\\r\\n\\r...</td>\n",
       "      <td>This video demonstrates the power of IBM DataS...</td>\n",
       "      <td>Analyze NY Restaurant data using Spark in DSX</td>\n",
       "      <td>Live</td>\n",
       "      <td>4</td>\n",
       "    </tr>\n",
       "  </tbody>\n",
       "</table>\n",
       "</div>"
      ],
      "text/plain": [
       "                                            doc_body  \\\n",
       "0  Skip navigation Sign in SearchLoading...\\r\\n\\r...   \n",
       "1  No Free Hunch Navigation * kaggle.com\\r\\n\\r\\n ...   \n",
       "2  ☰ * Login\\r\\n * Sign Up\\r\\n\\r\\n * Learning Pat...   \n",
       "3  DATALAYER: HIGH THROUGHPUT, LOW LATENCY AT SCA...   \n",
       "4  Skip navigation Sign in SearchLoading...\\r\\n\\r...   \n",
       "\n",
       "                                     doc_description  \\\n",
       "0  Detect bad readings in real time using Python ...   \n",
       "1  See the forest, see the trees. Here lies the c...   \n",
       "2  Here’s this week’s news in Data Science and Bi...   \n",
       "3  Learn how distributed DBs solve the problem of...   \n",
       "4  This video demonstrates the power of IBM DataS...   \n",
       "\n",
       "                                       doc_full_name doc_status  article_id  \n",
       "0  Detect Malfunctioning IoT Sensors with Streami...       Live           0  \n",
       "1  Communicating data science: A guide to present...       Live           1  \n",
       "2         This Week in Data Science (April 18, 2017)       Live           2  \n",
       "3  DataLayer Conference: Boost the performance of...       Live           3  \n",
       "4      Analyze NY Restaurant data using Spark in DSX       Live           4  "
      ]
     },
     "execution_count": 2,
     "metadata": {},
     "output_type": "execute_result"
    }
   ],
   "source": [
    "# Show df_content to get an idea of the data\n",
    "df_content.head()"
   ]
  },
  {
   "cell_type": "markdown",
   "metadata": {},
   "source": [
    "### <a class=\"anchor\" id=\"Exploratory-Data-Analysis\">Part I : Exploratory Data Analysis</a>\n",
    "\n",
    "Use the dictionary and cells below to provide some insight into the descriptive statistics of the data.\n",
    "\n",
    "`1.` What is the distribution of how many articles a user interacts with in the dataset?  Provide a visual and descriptive statistics to assist with giving a look at the number of times each user interacts with an article.  "
   ]
  },
  {
   "cell_type": "code",
   "execution_count": 3,
   "metadata": {},
   "outputs": [
    {
     "name": "stderr",
     "output_type": "stream",
     "text": [
      "/Applications/anaconda3/lib/python3.7/site-packages/matplotlib/axes/_axes.py:6521: MatplotlibDeprecationWarning: \n",
      "The 'normed' kwarg was deprecated in Matplotlib 2.1 and will be removed in 3.1. Use 'density' instead.\n",
      "  alternative=\"'density'\", removal=\"3.1\")\n"
     ]
    },
    {
     "data": {
      "image/png": "[encoded data removed]",
      "text/plain": [
       "<Figure size 576x576 with 1 Axes>"
      ]
     },
     "metadata": {
      "needs_background": "light"
     },
     "output_type": "display_data"
    }
   ],
   "source": [
    "df_temp = df.groupby('email').count().unstack()\n",
    "plt.figure(figsize=(8,8))\n",
    "plt.hist(df_temp, normed=True, alpha=.5, label='title' , bins =100 , range=(0,100));\n",
    "plt.legend(loc=1, prop={'size': 15});\n",
    "plt.xlabel('number of article');\n",
    "plt.title('Empirical Density');"
   ]
  },
  {
   "cell_type": "markdown",
   "metadata": {
    "collapsed": true
   },
   "source": [
    "The distribution is clearly non-normal, ressembles more a Poisson or exponential distribution. The distribution is very skewed. A large proportion of the sample only has 1 article consulted. This is another challenge in making a recommendation algorithm because the added information to calibrate the algorithm is low for the largest part of the sample."
   ]
  },
  {
   "cell_type": "code",
   "execution_count": 4,
   "metadata": {},
   "outputs": [
    {
     "data": {
      "text/plain": [
       "count    10296.000000\n",
       "mean         8.930847\n",
       "std         16.801451\n",
       "min          1.000000\n",
       "25%          1.000000\n",
       "50%          3.000000\n",
       "75%          9.000000\n",
       "max        364.000000\n",
       "dtype: float64"
      ]
     },
     "execution_count": 4,
     "metadata": {},
     "output_type": "execute_result"
    }
   ],
   "source": [
    "df_temp.describe()"
   ]
  },
  {
   "cell_type": "code",
   "execution_count": 5,
   "metadata": {},
   "outputs": [
    {
     "name": "stdout",
     "output_type": "stream",
     "text": [
      "50% of individuals interact with  3.0 number of articles or fewer.\n",
      "The maximum number of user-article interactions by any 1 user is  364\n"
     ]
    }
   ],
   "source": [
    "# Fill in the median and maximum number of user_article interactios below\n",
    "df_temp = df.groupby('email').count()\n",
    "median_val = df_temp.title.median()# 50% of individuals interact with ____ number of articles or fewer.\n",
    "max_views_by_user = np.max(df_temp.title )# The maximum number of user-article interactions by any 1 user is ______.\n",
    "print('50% of individuals interact with ', median_val,'number of articles or fewer.')\n",
    "print('The maximum number of user-article interactions by any 1 user is ', max_views_by_user)"
   ]
  },
  {
   "cell_type": "markdown",
   "metadata": {},
   "source": [
    "`2.` Explore and remove duplicate articles from the **df_content** dataframe.  "
   ]
  },
  {
   "cell_type": "code",
   "execution_count": 6,
   "metadata": {},
   "outputs": [],
   "source": [
    "# Find and explore duplicate articles\n",
    "list_unique= df_content.article_id.unique()"
   ]
  },
  {
   "cell_type": "code",
   "execution_count": 7,
   "metadata": {},
   "outputs": [],
   "source": [
    "df_content= df_content.drop_duplicates(subset='article_id', keep='first', inplace=False)# Remove any rows that have the same article_id - only keep the first"
   ]
  },
  {
   "cell_type": "markdown",
   "metadata": {},
   "source": [
    "`3.` Use the cells below to find:\n",
    "\n",
    "**a.** The number of unique articles that have an interaction with a user.  \n",
    "**b.** The number of unique articles in the dataset (whether they have any interactions or not).<br>\n",
    "**c.** The number of unique users in the dataset. (excluding null values)<br> \n",
    "**d.** The number of user-article interactions in the dataset."
   ]
  },
  {
   "cell_type": "code",
   "execution_count": 8,
   "metadata": {},
   "outputs": [],
   "source": [
    "df_unique_articles = df.groupby('article_id').count().unstack().title"
   ]
  },
  {
   "cell_type": "code",
   "execution_count": 9,
   "metadata": {},
   "outputs": [
    {
     "name": "stdout",
     "output_type": "stream",
     "text": [
      "714 1051 5148 45993\n"
     ]
    }
   ],
   "source": [
    "unique_articles = df_unique_articles.index.shape[0]# The number of unique articles that have at least one interaction\n",
    "total_articles = list_unique.shape[0] # The number of unique articles on the IBM platform\n",
    "unique_users =   df_temp.shape[0]# The number of unique users\n",
    "user_article_interactions = df.shape[0] # The number of user-article interactions\n",
    "print(unique_articles,total_articles,unique_users,user_article_interactions)"
   ]
  },
  {
   "cell_type": "markdown",
   "metadata": {},
   "source": [
    "`4.` Use the cells below to find the most viewed **article_id**, as well as how often it was viewed.  After talking to the company leaders, the `email_mapper` function was deemed a reasonable way to map users to ids.  There were a small number of null values, and it was find using other information that all of these null values likely belonged to a single user."
   ]
  },
  {
   "cell_type": "code",
   "execution_count": 10,
   "metadata": {},
   "outputs": [
    {
     "name": "stdout",
     "output_type": "stream",
     "text": [
      "1429.0 937\n"
     ]
    }
   ],
   "source": [
    "most_viewed_article_id =str(df_unique_articles.sort_values(ascending = False).index.values[0] )# The most viewed article in the dataset as a string with one value following the decimal \n",
    "max_views = df_unique_articles.sort_values(ascending = False).values[0]# The most viewed article in the dataset was viewed how many times?\n",
    "print(most_viewed_article_id, max_views)"
   ]
  },
  {
   "cell_type": "code",
   "execution_count": 11,
   "metadata": {},
   "outputs": [
    {
     "data": {
      "text/html": [
       "<div>\n",
       "<style scoped>\n",
       "    .dataframe tbody tr th:only-of-type {\n",
       "        vertical-align: middle;\n",
       "    }\n",
       "\n",
       "    .dataframe tbody tr th {\n",
       "        vertical-align: top;\n",
       "    }\n",
       "\n",
       "    .dataframe thead th {\n",
       "        text-align: right;\n",
       "    }\n",
       "</style>\n",
       "<table border=\"1\" class=\"dataframe\">\n",
       "  <thead>\n",
       "    <tr style=\"text-align: right;\">\n",
       "      <th></th>\n",
       "      <th>article_id</th>\n",
       "      <th>title</th>\n",
       "      <th>user_id</th>\n",
       "    </tr>\n",
       "  </thead>\n",
       "  <tbody>\n",
       "    <tr>\n",
       "      <th>0</th>\n",
       "      <td>1430.0</td>\n",
       "      <td>using pixiedust for fast, flexible, and easier...</td>\n",
       "      <td>1</td>\n",
       "    </tr>\n",
       "    <tr>\n",
       "      <th>1</th>\n",
       "      <td>1314.0</td>\n",
       "      <td>healthcare python streaming application demo</td>\n",
       "      <td>2</td>\n",
       "    </tr>\n",
       "    <tr>\n",
       "      <th>2</th>\n",
       "      <td>1429.0</td>\n",
       "      <td>use deep learning for image classification</td>\n",
       "      <td>3</td>\n",
       "    </tr>\n",
       "    <tr>\n",
       "      <th>3</th>\n",
       "      <td>1338.0</td>\n",
       "      <td>ml optimization using cognitive assistant</td>\n",
       "      <td>4</td>\n",
       "    </tr>\n",
       "    <tr>\n",
       "      <th>4</th>\n",
       "      <td>1276.0</td>\n",
       "      <td>deploy your python model as a restful api</td>\n",
       "      <td>5</td>\n",
       "    </tr>\n",
       "  </tbody>\n",
       "</table>\n",
       "</div>"
      ],
      "text/plain": [
       "   article_id                                              title  user_id\n",
       "0      1430.0  using pixiedust for fast, flexible, and easier...        1\n",
       "1      1314.0       healthcare python streaming application demo        2\n",
       "2      1429.0         use deep learning for image classification        3\n",
       "3      1338.0          ml optimization using cognitive assistant        4\n",
       "4      1276.0          deploy your python model as a restful api        5"
      ]
     },
     "execution_count": 11,
     "metadata": {},
     "output_type": "execute_result"
    }
   ],
   "source": [
    "## No need to change the code here - this will be helpful for later parts of the notebook\n",
    "# Run this cell to map the user email to a user_id column and remove the email column\n",
    "\n",
    "def email_mapper():\n",
    "    coded_dict = dict()\n",
    "    cter = 1\n",
    "    email_encoded = []\n",
    "    \n",
    "    for val in df['email']:\n",
    "        if val not in coded_dict:\n",
    "            coded_dict[val] = cter\n",
    "            cter+=1\n",
    "        \n",
    "        email_encoded.append(coded_dict[val])\n",
    "    return email_encoded\n",
    "\n",
    "email_encoded = email_mapper()\n",
    "del df['email']\n",
    "df['user_id'] = email_encoded\n",
    "\n",
    "# show header\n",
    "df.head()"
   ]
  },
  {
   "cell_type": "code",
   "execution_count": 12,
   "metadata": {},
   "outputs": [
    {
     "name": "stdout",
     "output_type": "stream",
     "text": [
      "It looks like you have everything right here! Nice job!\n"
     ]
    }
   ],
   "source": [
    "## If you stored all your results in the variable names above, \n",
    "## you shouldn't need to change anything in this cell\n",
    "\n",
    "sol_1_dict = {\n",
    "    '`50% of individuals have _____ or fewer interactions.`': median_val,\n",
    "    '`The total number of user-article interactions in the dataset is ______.`': user_article_interactions,\n",
    "    '`The maximum number of user-article interactions by any 1 user is ______.`': max_views_by_user,\n",
    "    '`The most viewed article in the dataset was viewed _____ times.`': max_views,\n",
    "    '`The article_id of the most viewed article is ______.`': most_viewed_article_id,\n",
    "    '`The number of unique articles that have at least 1 rating ______.`': unique_articles,\n",
    "    '`The number of unique users in the dataset is ______`': unique_users,\n",
    "    '`The number of unique articles on the IBM platform`': total_articles\n",
    "}\n",
    "\n",
    "# Test your dictionary against the solution\n",
    "t.sol_1_test(sol_1_dict)"
   ]
  },
  {
   "cell_type": "markdown",
   "metadata": {},
   "source": [
    "### <a class=\"anchor\" id=\"Rank\">Part II: Rank-Based Recommendations</a>\n",
    "\n",
    "Unlike in the earlier lessons, we don't actually have ratings for whether a user liked an article or not.  We only know that a user has interacted with an article.  In these cases, the popularity of an article can really only be based on how often an article was interacted with.\n",
    "\n",
    "`1.` Fill in the function below to return the **n** top articles ordered with most interactions as the top. Test your function using the tests below."
   ]
  },
  {
   "cell_type": "code",
   "execution_count": 13,
   "metadata": {},
   "outputs": [],
   "source": [
    "def get_top_articles(n, df=df):\n",
    "    '''\n",
    "    INPUT:\n",
    "    n - (int) the number of top articles to return\n",
    "    df - (pandas dataframe) df as defined at the top of the notebook \n",
    "    \n",
    "    OUTPUT:\n",
    "    top_articles - (list) A list of the top 'n' article titles \n",
    "    \n",
    "    '''\n",
    "    # Your code here\n",
    "    top_articles = list(df['title'].value_counts().reset_index().head(n)['index'])\n",
    "    return top_articles # Return the top article titles from df (not df_content)\n",
    "\n",
    "def get_top_article_ids(n, df=df):\n",
    "    '''\n",
    "    INPUT:\n",
    "    n - (int) the number of top articles to return\n",
    "    df - (pandas dataframe) df as defined at the top of the notebook \n",
    "    \n",
    "    OUTPUT:\n",
    "    top_articles - (list) A list of the top 'n' article titles \n",
    "    \n",
    "    '''\n",
    "    # Your code here\n",
    "    df_temp = df.groupby('article_id').user_id.count().sort_values(ascending=False)\n",
    "    return df_temp.index.values[0:n] # Return the top article ids"
   ]
  },
  {
   "cell_type": "code",
   "execution_count": 14,
   "metadata": {},
   "outputs": [
    {
     "name": "stdout",
     "output_type": "stream",
     "text": [
      "['use deep learning for image classification', 'insights from new york car accident reports', 'visualize car data with brunel', 'use xgboost, scikit-learn & ibm watson machine learning apis', 'predicting churn with the spss random tree algorithm', 'healthcare python streaming application demo', 'finding optimal locations of new store using decision optimization', 'apache spark lab, part 1: basic concepts', 'analyze energy consumption in buildings', 'gosales transactions for logistic regression model']\n",
      "[1429. 1330. 1431. 1427. 1364. 1314. 1293. 1170. 1162. 1304.]\n"
     ]
    }
   ],
   "source": [
    "print(get_top_articles(10))\n",
    "print(get_top_article_ids(10))"
   ]
  },
  {
   "cell_type": "code",
   "execution_count": 15,
   "metadata": {},
   "outputs": [
    {
     "name": "stdout",
     "output_type": "stream",
     "text": [
      "Your top_5 looks like the solution list! Nice job.\n",
      "Your top_10 looks like the solution list! Nice job.\n",
      "Your top_20 looks like the solution list! Nice job.\n"
     ]
    }
   ],
   "source": [
    "# Test your function by returning the top 5, 10, and 20 articles\n",
    "top_5 = get_top_articles(5)\n",
    "top_10 = get_top_articles(10)\n",
    "top_20 = get_top_articles(20)\n",
    "\n",
    "# Test each of your three lists from above\n",
    "t.sol_2_test(get_top_articles)"
   ]
  },
  {
   "cell_type": "markdown",
   "metadata": {},
   "source": [
    "### <a class=\"anchor\" id=\"User-User\">Part III: User-User Based Collaborative Filtering</a>\n",
    "\n",
    "\n",
    "`1.` Use the function below to reformat the **df** dataframe to be shaped with users as the rows and articles as the columns.  \n",
    "\n",
    "* Each **user** should only appear in each **row** once.\n",
    "\n",
    "\n",
    "* Each **article** should only show up in one **column**.  \n",
    "\n",
    "\n",
    "* **If a user has interacted with an article, then place a 1 where the user-row meets for that article-column**.  It does not matter how many times a user has interacted with the article, all entries where a user has interacted with an article should be a 1.  \n",
    "\n",
    "\n",
    "* **If a user has not interacted with an item, then place a zero where the user-row meets for that article-column**. \n",
    "\n",
    "Use the tests to make sure the basic structure of your matrix matches what is expected by the solution."
   ]
  },
  {
   "cell_type": "code",
   "execution_count": 16,
   "metadata": {},
   "outputs": [
    {
     "name": "stdout",
     "output_type": "stream",
     "text": [
      "article_id  0.0     2.0     4.0     8.0     9.0     12.0    14.0    15.0    \\\n",
      "user_id                                                                      \n",
      "1              0.0     0.0     0.0     0.0     0.0     0.0     0.0     0.0   \n",
      "2              0.0     0.0     0.0     0.0     0.0     0.0     0.0     0.0   \n",
      "3              0.0     0.0     0.0     0.0     0.0     1.0     0.0     0.0   \n",
      "4              0.0     0.0     0.0     0.0     0.0     0.0     0.0     0.0   \n",
      "5              0.0     0.0     0.0     0.0     0.0     0.0     0.0     0.0   \n",
      "6              0.0     0.0     0.0     0.0     0.0     0.0     0.0     0.0   \n",
      "7              0.0     0.0     0.0     0.0     0.0     0.0     0.0     0.0   \n",
      "8              0.0     0.0     0.0     0.0     0.0     0.0     1.0     0.0   \n",
      "9              0.0     0.0     0.0     0.0     0.0     0.0     1.0     0.0   \n",
      "10             0.0     0.0     0.0     0.0     0.0     0.0     0.0     0.0   \n",
      "11             0.0     0.0     0.0     0.0     0.0     1.0     0.0     0.0   \n",
      "12             0.0     0.0     0.0     0.0     0.0     0.0     1.0     0.0   \n",
      "13             0.0     0.0     0.0     0.0     0.0     0.0     1.0     0.0   \n",
      "14             0.0     0.0     0.0     0.0     0.0     0.0     0.0     0.0   \n",
      "15             0.0     0.0     0.0     0.0     0.0     0.0     0.0     0.0   \n",
      "16             0.0     0.0     0.0     0.0     0.0     0.0     0.0     0.0   \n",
      "17             0.0     0.0     0.0     0.0     0.0     0.0     0.0     0.0   \n",
      "18             0.0     0.0     0.0     0.0     0.0     0.0     0.0     0.0   \n",
      "19             0.0     0.0     0.0     0.0     0.0     0.0     0.0     0.0   \n",
      "20             0.0     0.0     0.0     0.0     0.0     0.0     0.0     0.0   \n",
      "21             0.0     0.0     0.0     0.0     0.0     0.0     1.0     0.0   \n",
      "22             0.0     0.0     0.0     0.0     0.0     1.0     0.0     0.0   \n",
      "23             0.0     1.0     0.0     0.0     0.0     1.0     1.0     0.0   \n",
      "24             0.0     0.0     0.0     0.0     0.0     0.0     0.0     0.0   \n",
      "25             0.0     0.0     0.0     0.0     0.0     0.0     0.0     0.0   \n",
      "26             0.0     0.0     0.0     0.0     0.0     0.0     0.0     0.0   \n",
      "27             0.0     0.0     0.0     0.0     0.0     0.0     0.0     0.0   \n",
      "28             0.0     0.0     0.0     0.0     0.0     1.0     0.0     0.0   \n",
      "29             0.0     0.0     0.0     0.0     0.0     0.0     0.0     0.0   \n",
      "30             0.0     0.0     0.0     0.0     0.0     0.0     0.0     0.0   \n",
      "...            ...     ...     ...     ...     ...     ...     ...     ...   \n",
      "5120           0.0     0.0     0.0     0.0     0.0     0.0     0.0     0.0   \n",
      "5121           0.0     0.0     0.0     0.0     0.0     0.0     0.0     0.0   \n",
      "5122           0.0     0.0     0.0     1.0     0.0     0.0     0.0     0.0   \n",
      "5123           0.0     0.0     0.0     0.0     0.0     0.0     0.0     0.0   \n",
      "5124           0.0     0.0     0.0     0.0     0.0     0.0     0.0     0.0   \n",
      "5125           0.0     0.0     0.0     0.0     0.0     0.0     0.0     0.0   \n",
      "5126           0.0     0.0     0.0     0.0     0.0     0.0     0.0     0.0   \n",
      "5127           0.0     0.0     0.0     0.0     0.0     0.0     0.0     0.0   \n",
      "5128           0.0     0.0     0.0     0.0     0.0     0.0     0.0     0.0   \n",
      "5129           0.0     0.0     0.0     0.0     0.0     0.0     0.0     0.0   \n",
      "5130           0.0     0.0     0.0     0.0     0.0     0.0     0.0     0.0   \n",
      "5131           0.0     0.0     0.0     0.0     0.0     0.0     0.0     0.0   \n",
      "5132           0.0     0.0     0.0     0.0     0.0     0.0     0.0     0.0   \n",
      "5133           0.0     0.0     0.0     0.0     0.0     0.0     0.0     0.0   \n",
      "5134           0.0     0.0     0.0     0.0     0.0     0.0     0.0     0.0   \n",
      "5135           0.0     0.0     0.0     0.0     0.0     0.0     0.0     0.0   \n",
      "5136           0.0     0.0     0.0     0.0     0.0     0.0     0.0     0.0   \n",
      "5137           0.0     0.0     0.0     0.0     0.0     0.0     0.0     0.0   \n",
      "5138           0.0     0.0     0.0     0.0     0.0     1.0     1.0     0.0   \n",
      "5139           0.0     0.0     0.0     0.0     0.0     0.0     0.0     1.0   \n",
      "5140           0.0     1.0     0.0     0.0     0.0     1.0     0.0     0.0   \n",
      "5141           0.0     0.0     0.0     0.0     0.0     0.0     0.0     0.0   \n",
      "5142           0.0     0.0     0.0     0.0     0.0     0.0     1.0     0.0   \n",
      "5143           0.0     0.0     0.0     0.0     0.0     0.0     0.0     0.0   \n",
      "5144           0.0     0.0     0.0     0.0     0.0     0.0     0.0     0.0   \n",
      "5145           0.0     0.0     0.0     0.0     0.0     0.0     0.0     0.0   \n",
      "5146           0.0     0.0     0.0     0.0     0.0     0.0     0.0     0.0   \n",
      "5147           0.0     0.0     0.0     0.0     0.0     0.0     0.0     0.0   \n",
      "5148           0.0     0.0     0.0     0.0     0.0     0.0     0.0     0.0   \n",
      "5149           0.0     0.0     0.0     0.0     0.0     0.0     0.0     0.0   \n",
      "\n",
      "article_id  16.0    18.0    ...  1434.0  1435.0  1436.0  1437.0  1439.0  \\\n",
      "user_id                     ...                                           \n",
      "1              0.0     0.0  ...     0.0     0.0     1.0     0.0     1.0   \n",
      "2              0.0     0.0  ...     0.0     0.0     0.0     0.0     0.0   \n",
      "3              0.0     0.0  ...     0.0     0.0     1.0     0.0     0.0   \n",
      "4              0.0     0.0  ...     0.0     0.0     0.0     0.0     0.0   \n",
      "5              0.0     0.0  ...     0.0     0.0     0.0     0.0     0.0   \n",
      "6              0.0     0.0  ...     0.0     0.0     1.0     0.0     0.0   \n",
      "7              0.0     0.0  ...     0.0     0.0     0.0     0.0     0.0   \n",
      "8              0.0     0.0  ...     0.0     0.0     1.0     0.0     0.0   \n",
      "9              1.0     0.0  ...     0.0     0.0     0.0     0.0     0.0   \n",
      "10             0.0     0.0  ...     0.0     0.0     0.0     0.0     0.0   \n",
      "11             0.0     0.0  ...     0.0     0.0     0.0     0.0     0.0   \n",
      "12             0.0     0.0  ...     0.0     0.0     0.0     0.0     0.0   \n",
      "13             0.0     0.0  ...     0.0     0.0     0.0     0.0     0.0   \n",
      "14             0.0     0.0  ...     0.0     0.0     0.0     0.0     0.0   \n",
      "15             0.0     0.0  ...     0.0     0.0     0.0     0.0     0.0   \n",
      "16             0.0     0.0  ...     0.0     0.0     0.0     0.0     0.0   \n",
      "17             0.0     0.0  ...     0.0     0.0     0.0     0.0     0.0   \n",
      "18             0.0     0.0  ...     0.0     0.0     0.0     0.0     0.0   \n",
      "19             0.0     0.0  ...     0.0     0.0     0.0     0.0     0.0   \n",
      "20             0.0     0.0  ...     0.0     0.0     0.0     0.0     0.0   \n",
      "21             0.0     0.0  ...     0.0     0.0     1.0     1.0     0.0   \n",
      "22             0.0     0.0  ...     0.0     0.0     0.0     0.0     0.0   \n",
      "23             1.0     0.0  ...     0.0     0.0     1.0     0.0     1.0   \n",
      "24             0.0     0.0  ...     0.0     0.0     0.0     0.0     0.0   \n",
      "25             0.0     0.0  ...     0.0     0.0     0.0     0.0     0.0   \n",
      "26             0.0     0.0  ...     0.0     0.0     1.0     0.0     0.0   \n",
      "27             0.0     0.0  ...     0.0     0.0     0.0     0.0     0.0   \n",
      "28             0.0     0.0  ...     0.0     0.0     0.0     0.0     0.0   \n",
      "29             0.0     0.0  ...     0.0     0.0     0.0     0.0     0.0   \n",
      "30             0.0     0.0  ...     0.0     0.0     0.0     0.0     0.0   \n",
      "...            ...     ...  ...     ...     ...     ...     ...     ...   \n",
      "5120           0.0     0.0  ...     0.0     0.0     0.0     0.0     0.0   \n",
      "5121           0.0     0.0  ...     0.0     0.0     0.0     0.0     0.0   \n",
      "5122           0.0     0.0  ...     0.0     0.0     0.0     0.0     0.0   \n",
      "5123           0.0     0.0  ...     0.0     0.0     1.0     1.0     0.0   \n",
      "5124           0.0     0.0  ...     0.0     0.0     0.0     0.0     0.0   \n",
      "5125           0.0     0.0  ...     0.0     0.0     0.0     0.0     0.0   \n",
      "5126           0.0     0.0  ...     0.0     0.0     0.0     0.0     0.0   \n",
      "5127           0.0     0.0  ...     1.0     0.0     0.0     0.0     0.0   \n",
      "5128           0.0     0.0  ...     0.0     0.0     0.0     0.0     0.0   \n",
      "5129           0.0     0.0  ...     0.0     0.0     0.0     0.0     0.0   \n",
      "5130           0.0     0.0  ...     0.0     0.0     0.0     0.0     0.0   \n",
      "5131           0.0     0.0  ...     0.0     0.0     0.0     0.0     0.0   \n",
      "5132           0.0     0.0  ...     0.0     0.0     0.0     0.0     0.0   \n",
      "5133           0.0     0.0  ...     0.0     0.0     0.0     0.0     0.0   \n",
      "5134           0.0     0.0  ...     0.0     0.0     0.0     0.0     0.0   \n",
      "5135           0.0     0.0  ...     0.0     0.0     0.0     0.0     0.0   \n",
      "5136           0.0     0.0  ...     0.0     0.0     0.0     0.0     0.0   \n",
      "5137           0.0     0.0  ...     0.0     0.0     0.0     0.0     0.0   \n",
      "5138           0.0     0.0  ...     0.0     0.0     0.0     0.0     0.0   \n",
      "5139           0.0     0.0  ...     0.0     0.0     0.0     0.0     0.0   \n",
      "5140           0.0     0.0  ...     0.0     0.0     0.0     0.0     0.0   \n",
      "5141           0.0     0.0  ...     0.0     0.0     0.0     0.0     0.0   \n",
      "5142           0.0     0.0  ...     0.0     0.0     0.0     0.0     0.0   \n",
      "5143           0.0     0.0  ...     0.0     0.0     1.0     0.0     0.0   \n",
      "5144           0.0     0.0  ...     0.0     0.0     0.0     0.0     0.0   \n",
      "5145           0.0     0.0  ...     0.0     0.0     0.0     0.0     0.0   \n",
      "5146           0.0     0.0  ...     0.0     0.0     0.0     0.0     0.0   \n",
      "5147           0.0     0.0  ...     0.0     0.0     0.0     0.0     0.0   \n",
      "5148           0.0     0.0  ...     0.0     0.0     0.0     0.0     0.0   \n",
      "5149           1.0     0.0  ...     0.0     0.0     0.0     0.0     0.0   \n",
      "\n",
      "article_id  1440.0  1441.0  1442.0  1443.0  1444.0  \n",
      "user_id                                             \n",
      "1              0.0     0.0     0.0     0.0     0.0  \n",
      "2              0.0     0.0     0.0     0.0     0.0  \n",
      "3              0.0     0.0     0.0     0.0     0.0  \n",
      "4              0.0     0.0     0.0     0.0     0.0  \n",
      "5              0.0     0.0     0.0     0.0     0.0  \n",
      "6              0.0     0.0     0.0     0.0     0.0  \n",
      "7              0.0     0.0     0.0     0.0     0.0  \n",
      "8              0.0     0.0     0.0     0.0     0.0  \n",
      "9              0.0     0.0     0.0     0.0     0.0  \n",
      "10             0.0     0.0     0.0     0.0     0.0  \n",
      "11             0.0     0.0     0.0     0.0     0.0  \n",
      "12             0.0     0.0     0.0     0.0     0.0  \n",
      "13             0.0     0.0     0.0     0.0     0.0  \n",
      "14             0.0     0.0     0.0     0.0     0.0  \n",
      "15             0.0     0.0     0.0     0.0     0.0  \n",
      "16             0.0     0.0     0.0     0.0     0.0  \n",
      "17             0.0     0.0     0.0     0.0     0.0  \n",
      "18             0.0     0.0     0.0     0.0     0.0  \n",
      "19             0.0     0.0     0.0     0.0     0.0  \n",
      "20             0.0     0.0     0.0     0.0     0.0  \n",
      "21             0.0     0.0     0.0     0.0     0.0  \n",
      "22             0.0     0.0     0.0     0.0     0.0  \n",
      "23             0.0     0.0     0.0     0.0     0.0  \n",
      "24             1.0     0.0     0.0     0.0     0.0  \n",
      "25             0.0     0.0     0.0     0.0     0.0  \n",
      "26             0.0     0.0     0.0     0.0     0.0  \n",
      "27             0.0     0.0     0.0     0.0     0.0  \n",
      "28             0.0     0.0     0.0     0.0     0.0  \n",
      "29             0.0     0.0     0.0     0.0     0.0  \n",
      "30             0.0     0.0     0.0     0.0     0.0  \n",
      "...            ...     ...     ...     ...     ...  \n",
      "5120           0.0     0.0     0.0     0.0     0.0  \n",
      "5121           0.0     0.0     0.0     0.0     0.0  \n",
      "5122           0.0     0.0     0.0     0.0     0.0  \n",
      "5123           0.0     0.0     0.0     0.0     0.0  \n",
      "5124           0.0     0.0     0.0     0.0     0.0  \n",
      "5125           0.0     0.0     0.0     0.0     0.0  \n",
      "5126           0.0     0.0     0.0     0.0     0.0  \n",
      "5127           0.0     0.0     0.0     0.0     0.0  \n",
      "5128           0.0     0.0     0.0     0.0     0.0  \n",
      "5129           0.0     0.0     0.0     0.0     0.0  \n",
      "5130           0.0     0.0     0.0     0.0     0.0  \n",
      "5131           0.0     0.0     0.0     0.0     0.0  \n",
      "5132           0.0     0.0     0.0     0.0     0.0  \n",
      "5133           0.0     0.0     0.0     0.0     0.0  \n",
      "5134           0.0     0.0     0.0     0.0     0.0  \n",
      "5135           0.0     0.0     0.0     0.0     0.0  \n",
      "5136           0.0     0.0     0.0     0.0     0.0  \n",
      "5137           0.0     0.0     0.0     0.0     0.0  \n",
      "5138           0.0     0.0     0.0     0.0     0.0  \n",
      "5139           0.0     0.0     0.0     0.0     0.0  \n",
      "5140           0.0     0.0     0.0     0.0     0.0  \n",
      "5141           0.0     0.0     0.0     0.0     0.0  \n",
      "5142           0.0     0.0     0.0     0.0     0.0  \n",
      "5143           0.0     0.0     0.0     0.0     0.0  \n",
      "5144           0.0     0.0     0.0     0.0     0.0  \n",
      "5145           0.0     0.0     0.0     0.0     0.0  \n",
      "5146           0.0     0.0     0.0     0.0     0.0  \n",
      "5147           0.0     0.0     0.0     0.0     0.0  \n",
      "5148           0.0     0.0     0.0     0.0     0.0  \n",
      "5149           0.0     0.0     0.0     0.0     0.0  \n",
      "\n",
      "[5149 rows x 714 columns]\n"
     ]
    }
   ],
   "source": [
    "# create the user-article matrix with 1's and 0's\n",
    "\n",
    "def create_user_item_matrix(df):\n",
    "    '''\n",
    "    INPUT:\n",
    "    df - pandas dataframe with article_id, title, user_id columns\n",
    "    \n",
    "    OUTPUT:\n",
    "    user_item - user item matrix \n",
    "    \n",
    "    Description:\n",
    "    Return a matrix with user ids as rows and article ids on the columns with 1 values where a user interacted with \n",
    "    an article and a 0 otherwise\n",
    "    '''\n",
    "    # Fill in the function here\n",
    "    user_item=df.pivot_table(values='title', index='user_id', columns='article_id',aggfunc= lambda x: min( 1,len(x.count())))\n",
    "    user_item[np.isnan(user_item)]=0\n",
    "                             \n",
    "    return user_item # return the user_item matrix \n",
    "\n",
    "user_item = create_user_item_matrix(df)\n",
    "print(user_item)"
   ]
  },
  {
   "cell_type": "code",
   "execution_count": 17,
   "metadata": {},
   "outputs": [
    {
     "name": "stdout",
     "output_type": "stream",
     "text": [
      "You have passed our quick tests!  Please proceed!\n"
     ]
    }
   ],
   "source": [
    "## Tests: You should just need to run this cell.  Don't change the code.\n",
    "assert user_item.shape[0] == 5149, \"Oops!  The number of users in the user-article matrix doesn't look right.\"\n",
    "assert user_item.shape[1] == 714, \"Oops!  The number of articles in the user-article matrix doesn't look right.\"\n",
    "assert user_item.sum(axis=1)[1] == 36, \"Oops!  The number of articles seen by user 1 doesn't look right.\"\n",
    "print(\"You have passed our quick tests!  Please proceed!\")"
   ]
  },
  {
   "cell_type": "markdown",
   "metadata": {},
   "source": [
    "`2.` Complete the function below which should take a user_id and provide an ordered list of the most similar users to that user (from most similar to least similar).  The returned result should not contain the provided user_id, as we know that each user is similar to him/herself. Because the results for each user here are binary, it (perhaps) makes sense to compute similarity as the dot product of two users. \n",
    "\n",
    "Use the tests to test your function."
   ]
  },
  {
   "cell_type": "code",
   "execution_count": 18,
   "metadata": {},
   "outputs": [],
   "source": [
    "def find_similar_users(user_id, user_item=user_item):\n",
    "    '''\n",
    "    INPUT:\n",
    "    user_id - (int) a user_id\n",
    "    user_item - (pandas dataframe) matrix of users by articles: \n",
    "                1's when a user has interacted with an article, 0 otherwise\n",
    "    \n",
    "    OUTPUT:\n",
    "    similar_users - (list) an ordered list where the closest users (largest dot product users)\n",
    "                    are listed first\n",
    "    \n",
    "    Description:\n",
    "    Computes the similarity of every pair of users based on the dot product\n",
    "    Returns an ordered\n",
    "    \n",
    "    '''\n",
    "    # compute similarity of each user to the provided user\n",
    "    temp_user_row = user_item.loc[user_id , :]\n",
    "#    user_item=user_item.drop(user_id)\n",
    "    similarity= np.dot(user_item ,np.transpose( temp_user_row))\n",
    "    similarity = pd.DataFrame(index = user_item.index , data = {'counter': similarity   })\n",
    "    similarity=similarity.drop(user_id)\n",
    "    similarity = similarity.sort_values(ascending=False , by = 'counter').index.values\n",
    "\n",
    "    # sort by similarity\n",
    "    print(similarity)\n",
    "    # create list of just the ids\n",
    "   \n",
    "    # remove the own user's id\n",
    "       \n",
    "    return similarity # return a list of the users in order from most to least similar"
   ]
  },
  {
   "cell_type": "code",
   "execution_count": 19,
   "metadata": {},
   "outputs": [
    {
     "name": "stdout",
     "output_type": "stream",
     "text": [
      "[3933   23 3782 ... 2328 2329 5149]\n",
      "The 10 most similar users to user 1 are: [3933   23 3782  203 4459 3870  131   46 4201  395]\n",
      "[   1   23 3782 ... 2276 2277 5149]\n",
      "The 5 most similar users to user 3933 are: [   1   23 3782 4459  203]\n",
      "[4201   23 3782 ... 3084 3085 5149]\n",
      "The 3 most similar users to user 46 are: [4201   23 3782]\n"
     ]
    }
   ],
   "source": [
    "# Do a spot check of your function\n",
    "print(\"The 10 most similar users to user 1 are: {}\".format(find_similar_users(1)[:10]))\n",
    "print(\"The 5 most similar users to user 3933 are: {}\".format(find_similar_users(3933)[:5]))\n",
    "print(\"The 3 most similar users to user 46 are: {}\".format(find_similar_users(46)[:3]))"
   ]
  },
  {
   "cell_type": "markdown",
   "metadata": {},
   "source": [
    "`3.` Now that you have a function that provides the most similar users to each user, you will want to use these users to find articles you can recommend.  Complete the functions below to return the articles you would recommend to each user. "
   ]
  },
  {
   "cell_type": "code",
   "execution_count": 20,
   "metadata": {},
   "outputs": [],
   "source": [
    "def get_article_names(article_ids, df=df):\n",
    "    '''\n",
    "    INPUT:\n",
    "    article_ids - (list) a list of article ids\n",
    "    df - (pandas dataframe) df as defined at the top of the notebook\n",
    "    \n",
    "    OUTPUT:\n",
    "    article_names - (list) a list of article names associated with the list of article ids \n",
    "                    (this is identified by the title column)\n",
    "    '''\n",
    "    # Your code here\n",
    "    article_names = []\n",
    "    for id in article_ids:\n",
    "        title = df[df['article_id'] == float(id)]['title'].iloc[0]\n",
    "        article_names.append(title)\n",
    "    return article_names \n",
    "\n",
    "def get_user_articles(user_id, user_item=user_item):\n",
    "    '''\n",
    "    INPUT:\n",
    "    user_id - (int) a user id\n",
    "    user_item - (pandas dataframe) matrix of users by articles: \n",
    "                1's when a user has interacted with an article, 0 otherwise\n",
    "    \n",
    "    OUTPUT:\n",
    "    article_ids - (list) a list of the article ids seen by the user\n",
    "    article_names - (list) a list of article names associated with the list of article ids \n",
    "    \n",
    "    Description:\n",
    "    Provides a list of the article_ids and article titles that have been seen by a user\n",
    "    '''\n",
    "    # Your code here\n",
    "    row_line = user_item.loc[user_id,]\n",
    "    row_line = row_line[row_line==1].index.values\n",
    "    article_ids=row_line\n",
    "    return list(article_ids), get_article_names(article_ids) # return the ids and names\n",
    "\n",
    "\n",
    "def user_user_recs(user_id, m=10):\n",
    "    '''\n",
    "    INPUT:\n",
    "    user_id - (int) a user id\n",
    "    m - (int) the number of recommendations you want for the user\n",
    "    \n",
    "    OUTPUT:\n",
    "    recs - (list) a list of recommendations for the user\n",
    "    \n",
    "    Description:\n",
    "    Loops through the users based on closeness to the input user_id\n",
    "    For each user - finds articles the user hasn't seen before and provides them as recs\n",
    "    Does this until m recommendations are found\n",
    "    \n",
    "    Notes:\n",
    "    Users who are the same closeness are chosen arbitrarily as the 'next' user\n",
    "    \n",
    "    For the user where the number of recommended articles starts below m \n",
    "    and ends exceeding m, the last items are chosen arbitrarily\n",
    "    \n",
    "    '''\n",
    "    total_recs = 0\n",
    "    recs = []\n",
    "    article_ids = get_user_articles(user_id)[0]\n",
    "    similar_users = find_similar_users(user_id, user_item=user_item)\n",
    "    \n",
    "    for user in similar_users:\n",
    "        if total_recs == m:\n",
    "            break\n",
    "        article_ids_user = get_user_articles(user)[0]\n",
    "\n",
    "        for article_id_user in article_ids_user:\n",
    "            if article_id_user not in article_ids:\n",
    "                recs.append(article_id_user)\n",
    "                total_recs += 1\n",
    "            if total_recs == m:\n",
    "                break\n",
    "    \n",
    "    return recs # return your recommendations for this user_id    "
   ]
  },
  {
   "cell_type": "code",
   "execution_count": 21,
   "metadata": {},
   "outputs": [
    {
     "name": "stdout",
     "output_type": "stream",
     "text": [
      "[3933   23 3782 ... 2328 2329 5149]\n"
     ]
    },
    {
     "data": {
      "text/plain": [
       "['using deep learning to reconstruct high-resolution audio',\n",
       " 'build a python app on the streaming analytics service',\n",
       " 'gosales transactions for naive bayes model',\n",
       " 'healthcare python streaming application demo',\n",
       " 'use r dataframes & ibm watson natural language understanding',\n",
       " 'use xgboost, scikit-learn & ibm watson machine learning apis']"
      ]
     },
     "execution_count": 21,
     "metadata": {},
     "output_type": "execute_result"
    }
   ],
   "source": [
    "# Check Results\n",
    "get_article_names(user_user_recs(1, 10)) # Return 10 recommendations for user 1\n",
    "get_user_articles(2)[1]"
   ]
  },
  {
   "cell_type": "code",
   "execution_count": 22,
   "metadata": {},
   "outputs": [
    {
     "name": "stdout",
     "output_type": "stream",
     "text": [
      "If this is all you see, you passed all of our tests!  Nice job!\n"
     ]
    }
   ],
   "source": [
    "# Test your functions here - No need to change this code - just run this cell\n",
    "assert set(get_article_names(['1024.0', '1176.0', '1305.0', '1314.0', '1422.0', '1427.0'])) == set(['using deep learning to reconstruct high-resolution audio', 'build a python app on the streaming analytics service', 'gosales transactions for naive bayes model', 'healthcare python streaming application demo', 'use r dataframes & ibm watson natural language understanding', 'use xgboost, scikit-learn & ibm watson machine learning apis']), \"Oops! Your the get_article_names function doesn't work quite how we expect.\"\n",
    "assert set(get_article_names(['1320.0', '232.0', '844.0'])) == set(['housing (2015): united states demographic measures','self-service data preparation with ibm data refinery','use the cloudant-spark connector in python notebook']), \"Oops! Your the get_article_names function doesn't work quite how we expect.\"\n",
    "#assert set(get_user_articles(20)[0]) == set(['1320.0', '232.0', '844.0'])\n",
    "assert set(get_user_articles(20)[1]) == set(['housing (2015): united states demographic measures', 'self-service data preparation with ibm data refinery','use the cloudant-spark connector in python notebook'])\n",
    "#assert set(get_user_articles(2)[0]) == set(['1024.0', '1176.0', '1305.0', '1314.0', '1422.0', '1427.0'])\n",
    "assert set(get_user_articles(2)[1]) == set(['using deep learning to reconstruct high-resolution audio', 'build a python app on the streaming analytics service', 'gosales transactions for naive bayes model', 'healthcare python streaming application demo', 'use r dataframes & ibm watson natural language understanding', 'use xgboost, scikit-learn & ibm watson machine learning apis'])\n",
    "print(\"If this is all you see, you passed all of our tests!  Nice job!\")"
   ]
  },
  {
   "cell_type": "markdown",
   "metadata": {},
   "source": [
    "`4.` Now we are going to improve the consistency of the **user_user_recs** function from above.  \n",
    "\n",
    "* Instead of arbitrarily choosing when we obtain users who are all the same closeness to a given user - choose the users that have the most total article interactions before choosing those with fewer article interactions.\n",
    "\n",
    "\n",
    "* Instead of arbitrarily choosing articles from the user where the number of recommended articles starts below m and ends exceeding m, choose articles with the articles with the most total interactions before choosing those with fewer total interactions. This ranking should be  what would be obtained from the **top_articles** function you wrote earlier."
   ]
  },
  {
   "cell_type": "code",
   "execution_count": 23,
   "metadata": {},
   "outputs": [],
   "source": [
    "def get_top_sorted_users(user_id, df=df, user_item=user_item):\n",
    "    '''\n",
    "    INPUT:\n",
    "    user_id - (int)\n",
    "    df - (pandas dataframe) df as defined at the top of the notebook \n",
    "    user_item - (pandas dataframe) matrix of users by articles: \n",
    "            1's when a user has interacted with an article, 0 otherwise\n",
    "    \n",
    "            \n",
    "    OUTPUT:\n",
    "    neighbors_df - (pandas dataframe) a dataframe with:\n",
    "                    neighbor_id - is a neighbor user_id\n",
    "                    similarity - measure of the similarity of each user to the provided \n",
    "                    user_id\n",
    "                    num_interactions - the number of articles viewed by the user - if a u\n",
    "                    \n",
    "    Other Details - sort the neighbors_df by the similarity and then by number of interactions where \n",
    "                    highest of each is higher in the dataframe\n",
    "     \n",
    "    '''\n",
    "    temp_user_row = user_item.loc[user_id , :]\n",
    "#    user_item=user_item.drop(user_id)\n",
    "    neighbors_df= np.dot(user_item ,np.transpose( temp_user_row))\n",
    "    interation_df= np.sum(user_item ,axis = 0)\n",
    "    neighbors_df = pd.DataFrame(index = user_item.index, data = {'similarity': neighbors_df  , 'neighbor_id': user_item.index, 'num_interactions': interation_df})\n",
    "    neighbors_df=neighbors_df.drop(user_id)\n",
    "    neighbors_df=neighbors_df.rename(columns={'user_id':'neighbor_id'})\n",
    "    neighbors_df = neighbors_df.sort_values(ascending=[False, False] , by = ['similarity','num_interactions'])\n",
    "    return neighbors_df # Return the dataframe specified in the doc_string\n",
    "\n",
    "def user_user_recs_part2(user_id, m=10):\n",
    "    '''\n",
    "    INPUT:\n",
    "    user_id - (int) a user id\n",
    "    m - (int) the number of recommendations you want for the user\n",
    "    \n",
    "    OUTPUT:\n",
    "    recs - (list) a list of recommendations for the user by article id\n",
    "    rec_names - (list) a list of recommendations for the user by article title\n",
    "    \n",
    "    Description:\n",
    "    Loops through the users based on closeness to the input user_id\n",
    "    For each user - finds articles the user hasn't seen before and provides them as recs\n",
    "    Does this until m recommendations are found\n",
    "    \n",
    "    Notes:\n",
    "    * Choose the users that have the most total article interactions \n",
    "    before choosing those with fewer article interactions.\n",
    "\n",
    "    * Choose articles with the articles with the most total interactions \n",
    "    before choosing those with fewer total interactions. \n",
    "   \n",
    "    '''\n",
    "    total_recs = 0\n",
    "    recs = []\n",
    "    article_ids = get_user_articles(user_id)[0]\n",
    "    similar_users = get_top_sorted_users(user_id, user_item=user_item)\n",
    "    book_interactions= pd.DataFrame(index = user_item.index,data = { 'interaction':np.sum(user_item ,axis = 1)})\n",
    "    for user in similar_users.index:\n",
    "        if total_recs == m:\n",
    "            break\n",
    "\n",
    "        article_ids_user = get_user_articles(user)[0]\n",
    "        book_interactions_temp = book_interactions.loc[article_ids_user,:].sort_values(by='interaction', ascending=False)\n",
    "        article_ids_user=book_interactions_temp.index.values\n",
    "        for article_id_user in article_ids_user:\n",
    "            if article_id_user not in article_ids:\n",
    "                recs.append(article_id_user)\n",
    "                total_recs += 1\n",
    "            if total_recs == m:\n",
    "                break\n",
    "                \n",
    "    return recs, get_article_names(recs, df=df)"
   ]
  },
  {
   "cell_type": "code",
   "execution_count": 24,
   "metadata": {},
   "outputs": [
    {
     "name": "stdout",
     "output_type": "stream",
     "text": [
      "The top 10 recommendations for user 20 are the following article ids:\n",
      "[379.0, 1035.0, 313.0, 111.0, 723.0, 213.0, 1172.0, 1162.0, 1386.0, 225.0]\n",
      "\n",
      "The top 10 recommendations for user 20 are the following article names:\n",
      "['data structures related to machine learning algorithms', 'machine learning for the enterprise.', 'what is machine learning?', 'tidy up your jupyter notebooks with scripts', '10 essential algorithms for machine learning engineers', 'modeling energy usage in new york city', 'apache spark lab, part 3: machine learning', 'analyze energy consumption in buildings', 'small steps to tensorflow', 'a visual explanation of the back propagation algorithm for neural networks']\n"
     ]
    }
   ],
   "source": [
    "# Quick spot check - don't change this code - just use it to test your functions\n",
    "rec_ids, rec_names = user_user_recs_part2(20, 10)\n",
    "print(\"The top 10 recommendations for user 20 are the following article ids:\")\n",
    "print(rec_ids)\n",
    "print()\n",
    "print(\"The top 10 recommendations for user 20 are the following article names:\")\n",
    "print(rec_names)"
   ]
  },
  {
   "cell_type": "markdown",
   "metadata": {},
   "source": [
    "`5.` Use your functions from above to correctly fill in the solutions to the dictionary below.  Then test your dictionary against the solution.  Provide the code you need to answer each following the comments below."
   ]
  },
  {
   "cell_type": "code",
   "execution_count": 25,
   "metadata": {},
   "outputs": [
    {
     "name": "stdout",
     "output_type": "stream",
     "text": [
      "3933\n",
      "242\n"
     ]
    }
   ],
   "source": [
    "### Tests with a dictionary of results\n",
    "\n",
    "user1_most_sim =get_top_sorted_users(1, df, user_item).index[0]# Find the user that is most similar to user 1 \n",
    "user131_10th_sim = get_top_sorted_users(131, df, user_item).index[9]# Find the 10th most similar user to user 131\n",
    "print(user1_most_sim)\n",
    "print(user131_10th_sim)"
   ]
  },
  {
   "cell_type": "code",
   "execution_count": 26,
   "metadata": {},
   "outputs": [
    {
     "name": "stdout",
     "output_type": "stream",
     "text": [
      "This all looks good!  Nice job!\n"
     ]
    }
   ],
   "source": [
    "## Dictionary Test Here\n",
    "sol_5_dict = {\n",
    "    'The user that is most similar to user 1.': user1_most_sim, \n",
    "    'The user that is the 10th most similar to user 131': user131_10th_sim,\n",
    "}\n",
    "\n",
    "t.sol_5_test(sol_5_dict)"
   ]
  },
  {
   "cell_type": "markdown",
   "metadata": {},
   "source": [
    "`6.` If we were given a new user, which of the above functions would you be able to use to make recommendations?  Explain.  Can you think of a better way we might make recommendations?  Use the cell below to explain a better method for new users."
   ]
  },
  {
   "cell_type": "markdown",
   "metadata": {},
   "source": [
    "The latest 2 function will simply return the neighbors users in the number of interactions they had. Then the articles with the most interactions will be selected."
   ]
  },
  {
   "cell_type": "markdown",
   "metadata": {},
   "source": [
    "`7.` Using your existing functions, provide the top 10 recommended articles you would provide for the a new user below.  You can test your function against our thoughts to make sure we are all on the same page with how we might make a recommendation."
   ]
  },
  {
   "cell_type": "code",
   "execution_count": 27,
   "metadata": {},
   "outputs": [
    {
     "name": "stdout",
     "output_type": "stream",
     "text": [
      "[1429. 1330. 1431. 1427. 1364. 1314. 1293. 1170. 1162. 1304.]\n"
     ]
    }
   ],
   "source": [
    "new_user = '0.0'\n",
    "# What would your recommendations be for this new user '0.0'?  As a new user, they have no observed articles.\n",
    "# Provide a list of the top 10 article ids you would give to \n",
    "# we should probably just recommend the most popular articles\n",
    "new_user_recs = get_top_article_ids(10)# Your recommendations here\n",
    "print(new_user_recs)\n"
   ]
  },
  {
   "cell_type": "code",
   "execution_count": 28,
   "metadata": {},
   "outputs": [
    {
     "ename": "AssertionError",
     "evalue": "Oops!  It makes sense that in this case we would want to recommend the most popular articles, because we don't know anything about these users.",
     "output_type": "error",
     "traceback": [
      "\u001b[0;31m---------------------------------------------------------------------------\u001b[0m",
      "\u001b[0;31mAssertionError\u001b[0m                            Traceback (most recent call last)",
      "\u001b[0;32m<ipython-input-28-180cf1c05a0f>\u001b[0m in \u001b[0;36m<module>\u001b[0;34m\u001b[0m\n\u001b[0;32m----> 1\u001b[0;31m \u001b[0;32massert\u001b[0m \u001b[0mset\u001b[0m\u001b[0;34m(\u001b[0m\u001b[0mnew_user_recs\u001b[0m\u001b[0;34m)\u001b[0m \u001b[0;34m==\u001b[0m \u001b[0mset\u001b[0m\u001b[0;34m(\u001b[0m\u001b[0;34m[\u001b[0m\u001b[0;34m'1314.0'\u001b[0m\u001b[0;34m,\u001b[0m\u001b[0;34m'1429.0'\u001b[0m\u001b[0;34m,\u001b[0m\u001b[0;34m'1293.0'\u001b[0m\u001b[0;34m,\u001b[0m\u001b[0;34m'1427.0'\u001b[0m\u001b[0;34m,\u001b[0m\u001b[0;34m'1162.0'\u001b[0m\u001b[0;34m,\u001b[0m\u001b[0;34m'1364.0'\u001b[0m\u001b[0;34m,\u001b[0m\u001b[0;34m'1304.0'\u001b[0m\u001b[0;34m,\u001b[0m\u001b[0;34m'1170.0'\u001b[0m\u001b[0;34m,\u001b[0m\u001b[0;34m'1431.0'\u001b[0m\u001b[0;34m,\u001b[0m\u001b[0;34m'1330.0'\u001b[0m\u001b[0;34m]\u001b[0m\u001b[0;34m)\u001b[0m\u001b[0;34m,\u001b[0m \u001b[0;34m\"Oops!  It makes sense that in this case we would want to recommend the most popular articles, because we don't know anything about these users.\"\u001b[0m\u001b[0;34m\u001b[0m\u001b[0;34m\u001b[0m\u001b[0m\n\u001b[0m\u001b[1;32m      2\u001b[0m \u001b[0;34m\u001b[0m\u001b[0m\n\u001b[1;32m      3\u001b[0m \u001b[0mprint\u001b[0m\u001b[0;34m(\u001b[0m\u001b[0;34m\"That's right!  Nice job!\"\u001b[0m\u001b[0;34m)\u001b[0m\u001b[0;34m\u001b[0m\u001b[0;34m\u001b[0m\u001b[0m\n",
      "\u001b[0;31mAssertionError\u001b[0m: Oops!  It makes sense that in this case we would want to recommend the most popular articles, because we don't know anything about these users."
     ]
    }
   ],
   "source": [
    "assert set(new_user_recs) == set(['1314.0','1429.0','1293.0','1427.0','1162.0','1364.0','1304.0','1170.0','1431.0','1330.0']), \"Oops!  It makes sense that in this case we would want to recommend the most popular articles, because we don't know anything about these users.\"\n",
    "\n",
    "print(\"That's right!  Nice job!\")"
   ]
  },
  {
   "cell_type": "markdown",
   "metadata": {},
   "source": [
    "### The solution does not match the solution from PART II which is strange..."
   ]
  },
  {
   "cell_type": "markdown",
   "metadata": {},
   "source": [
    "### <a class=\"anchor\" id=\"Content-Recs\">Part IV: Content Based Recommendations (EXTRA - NOT REQUIRED)</a>\n",
    "\n",
    "Another method we might use to make recommendations is to perform a ranking of the highest ranked articles associated with some term.  You might consider content to be the **doc_body**, **doc_description**, or **doc_full_name**.  There isn't one way to create a content based recommendation, especially considering that each of these columns hold content related information.  \n",
    "\n",
    "`1.` Use the function body below to create a content based recommender.  Since there isn't one right answer for this recommendation tactic, no test functions are provided.  Feel free to change the function inputs if you decide you want to try a method that requires more input values.  The input values are currently set with one idea in mind that you may use to make content based recommendations.  One additional idea is that you might want to choose the most popular recommendations that meet your 'content criteria', but again, there is a lot of flexibility in how you might make these recommendations.\n",
    "\n",
    "### This part is NOT REQUIRED to pass this project.  However, you may choose to take this on as an extra way to show off your skills."
   ]
  },
  {
   "cell_type": "code",
   "execution_count": 30,
   "metadata": {},
   "outputs": [
    {
     "name": "stdout",
     "output_type": "stream",
     "text": [
      "nan  was NOT PROCESSED\n",
      "nan  was NOT PROCESSED\n",
      "nan  was NOT PROCESSED\n",
      "4606\n",
      "nan  NOT PROCESSED\n",
      "nan  NOT PROCESSED\n",
      "nan  NOT PROCESSED\n",
      "ARTICLE CONSULTED\n",
      "['Start Developing with Spark and Notebooks']\n",
      "['Build a custom library for Apache® Spark™ and deploy it to a Jupyter Notebook.']\n",
      "the following is the prediction:\n",
      "            user\n",
      "article_id      \n",
      "893            6\n",
      "161            6\n",
      "993            6\n",
      "907            4\n",
      "835            4\n",
      "['Use the Machine Learning Library in IBM Analytics for Apache Spark']\n",
      "['Use the Machine Learning Library in Spark']\n",
      "['Configuring the Apache Spark SQL Context']\n",
      "['Build Spark SQL Queries']\n",
      "['Build SQL Queries in a Scala notebook using Apache Spark']\n"
     ]
    }
   ],
   "source": [
    "import nltk\n",
    "from nltk.corpus import stopwords\n",
    "from nltk import word_tokenize\n",
    "from nltk.tokenize import RegexpTokenizer\n",
    "\n",
    "def clean_sentence(string):\n",
    "    stop_words = set(stopwords.words('english'))\n",
    "    tokenizer = RegexpTokenizer(r'\\w+')\n",
    "    result = tokenizer.tokenize(string)\n",
    "    new_sentence=[]\n",
    "    for w in result:\n",
    "        if w not in stop_words: new_sentence.append(w)\n",
    "    return new_sentence\n",
    "\n",
    "def word_similarity_matrix(df_content):\n",
    "    words = np.array([])\n",
    "    for string in df_content.doc_full_name:\n",
    "        words = np.append(words,clean_sentence(string))\n",
    "    unique_words= np.unique(words)\n",
    "    print(len(unique_words))\n",
    "    #now that we have the list of unique words, we can build a dataframe\n",
    "    # with collumn = article_id\n",
    "    # with row = words\n",
    "    df_reco = pd.DataFrame( index = unique_words,columns =df_content.article_id, data= 0)\n",
    "    for string in df_content.doc_full_name:\n",
    "        words = clean_sentence(string)\n",
    "        for st in words:\n",
    "            df_reco.loc[st,df_content.article_id[df_content.doc_full_name == string]] +=1\n",
    "    #print(df_reco)    \n",
    "    return df_reco\n",
    "def word_similarity_matrix2(df_content):\n",
    "    words = np.array([])\n",
    "    for string in df_content.doc_description:\n",
    "        try:\n",
    "            words = np.append(words,clean_sentence(string))\n",
    "        except:\n",
    "            print(string,\" was NOT PROCESSED\")\n",
    "                \n",
    "    unique_words= np.unique(words)\n",
    "    print(len(unique_words))\n",
    "    #now that we have the list of unique words, we can build a dataframe\n",
    "    # with collumn = article_id\n",
    "    # with row = words\n",
    "    df_reco = pd.DataFrame( index = unique_words,columns =df_content.article_id, data= 0)\n",
    "    for string in df_content.doc_description:\n",
    "        try:\n",
    "            words = clean_sentence(string)\n",
    "            for st in words:\n",
    "                df_reco.loc[st,df_content.article_id[df_content.doc_description == string]] +=1\n",
    "        except:\n",
    "            print(string,\" NOT PROCESSED\")\n",
    "    #print(df_reco)    \n",
    "    return df_reco\n",
    "def word_similarity_user(list_of_title, df_reco):\n",
    "    words = np.array([])\n",
    "    for string in list_of_title:\n",
    "        words = np.append(words,clean_sentence(string))\n",
    "    #now that we have the list of unique words, we can build a dataframe\n",
    "    # with collumn = article_id\n",
    "    # with row = words\n",
    "    df_user = pd.DataFrame( index = df_reco.index, columns=['user'] , data= 0)\n",
    "    for string in words:\n",
    "        df_user.loc[string, 'user'] +=1\n",
    "    #print(df_user)\n",
    "    return df_user\n",
    "                \n",
    "\n",
    "def make_content_recs(list_of_articles, df=df, df_content=df_content ,m=5):\n",
    "    '''\n",
    "    INPUT:\n",
    "    - user_id: the id of the user we want a recommendation\n",
    "    OUTPUT:\n",
    "    - movie_reco: a list of movie recommended.\n",
    "    \n",
    "    '''\n",
    "    df_reco=word_similarity_matrix(df_content)\n",
    "    list_of_title=[]\n",
    "    for ide in list_of_articles:\n",
    "        list_of_title = np.append(list_of_title,df_content.doc_full_name[df_content.article_id == ide])\n",
    "    \n",
    "    df_user=word_similarity_user(list_of_title, df_reco)\n",
    "    print(list_of_title)\n",
    "    dot_prod = np.dot(np.transpose(np.array(df_user)) , np.array(df_reco)) \n",
    "    df_result = pd.DataFrame(index =df_content.article_id , data= np.transpose(dot_prod) , columns=['user'] )\n",
    "    df_result = df_result.sort_values(ascending= False , by='user')\n",
    "\n",
    "    df_result=df_result.drop(list_of_articles)\n",
    "    print(df_result.head())\n",
    "    for i in range(m):\n",
    "        print(df_content.doc_full_name[df_content.article_id == df_result.index[i]].values)\n",
    "\n",
    "def make_content_recs2(list_of_articles, df=df, df_content=df_content ,m=5):\n",
    "    '''\n",
    "    INPUT:\n",
    "    - user_id: the id of the user we want a recommendation\n",
    "    OUTPUT:\n",
    "    - movie_reco: a list of movie recommended.\n",
    "    \n",
    "    '''\n",
    "    df_reco=word_similarity_matrix2(df_content)\n",
    "    list_of_title=[]\n",
    "    for ide in list_of_articles:\n",
    "        list_of_title = np.append(list_of_title,df_content.doc_description[df_content.article_id == ide])\n",
    "        print('ARTICLE CONSULTED')\n",
    "        print(df_content.doc_full_name[df_content.article_id == ide].values)\n",
    "        print(df_content.doc_description[df_content.article_id == ide].values)\n",
    "    \n",
    "    df_user=word_similarity_user(list_of_title, df_reco)\n",
    "    dot_prod = np.dot(np.transpose(np.array(df_user)) , np.array(df_reco)) \n",
    "    df_result = pd.DataFrame(index =df_content.article_id , data= np.transpose(dot_prod) , columns=['user'] )\n",
    "    df_result = df_result.sort_values(ascending= False , by='user')\n",
    "\n",
    "    df_result=df_result.drop(list_of_articles)\n",
    "    print('the following is the prediction:')\n",
    "    print(df_result.head())\n",
    "    for i in range(m):\n",
    "        print(df_content.doc_full_name[df_content.article_id == df_result.index[i]].values)\n",
    "#make_content_recs([1000.0 , 56, 45], df, df_content ,5)\n",
    "make_content_recs2([ 45], df, df_content ,5)"
   ]
  },
  {
   "cell_type": "markdown",
   "metadata": {},
   "source": [
    "`2.` Now that you have put together your content-based recommendation system, use the cell below to write a summary explaining how your content based recommender works.  Do you see any possible improvements that could be made to your function?  Is there anything novel about your content based recommender?\n",
    "\n"
   ]
  },
  {
   "cell_type": "markdown",
   "metadata": {},
   "source": [
    "### The method we use is very simple:\n",
    "- Check the description of every article \n",
    "- Have a look at the words in this description and create a matrix that record the word/article.\n",
    "- To make a prediction, we simple compute the dot product of the words"
   ]
  },
  {
   "cell_type": "markdown",
   "metadata": {},
   "source": [
    "### <a class=\"anchor\" id=\"Matrix-Fact\">Part V: Matrix Factorization</a>\n",
    "\n",
    "In this part of the notebook, you will build use matrix factorization to make article recommendations to the users on the IBM Watson Studio platform.\n",
    "\n",
    "`1.` You should have already created a **user_item** matrix above in **question 1** of **Part III** above.  This first question here will just require that you run the cells to get things set up for the rest of **Part V** of the notebook. "
   ]
  },
  {
   "cell_type": "code",
   "execution_count": 31,
   "metadata": {},
   "outputs": [],
   "source": [
    "# Load the matrix here\n",
    "#user_item_matrix = pd.read_pickle('user_item_matrix.p')\n",
    "user_item_matrix = create_user_item_matrix(df)"
   ]
  },
  {
   "cell_type": "code",
   "execution_count": 32,
   "metadata": {},
   "outputs": [
    {
     "data": {
      "text/html": [
       "<div>\n",
       "<style scoped>\n",
       "    .dataframe tbody tr th:only-of-type {\n",
       "        vertical-align: middle;\n",
       "    }\n",
       "\n",
       "    .dataframe tbody tr th {\n",
       "        vertical-align: top;\n",
       "    }\n",
       "\n",
       "    .dataframe thead th {\n",
       "        text-align: right;\n",
       "    }\n",
       "</style>\n",
       "<table border=\"1\" class=\"dataframe\">\n",
       "  <thead>\n",
       "    <tr style=\"text-align: right;\">\n",
       "      <th>article_id</th>\n",
       "      <th>0.0</th>\n",
       "      <th>2.0</th>\n",
       "      <th>4.0</th>\n",
       "      <th>8.0</th>\n",
       "      <th>9.0</th>\n",
       "      <th>12.0</th>\n",
       "      <th>14.0</th>\n",
       "      <th>15.0</th>\n",
       "      <th>16.0</th>\n",
       "      <th>18.0</th>\n",
       "      <th>...</th>\n",
       "      <th>1434.0</th>\n",
       "      <th>1435.0</th>\n",
       "      <th>1436.0</th>\n",
       "      <th>1437.0</th>\n",
       "      <th>1439.0</th>\n",
       "      <th>1440.0</th>\n",
       "      <th>1441.0</th>\n",
       "      <th>1442.0</th>\n",
       "      <th>1443.0</th>\n",
       "      <th>1444.0</th>\n",
       "    </tr>\n",
       "    <tr>\n",
       "      <th>user_id</th>\n",
       "      <th></th>\n",
       "      <th></th>\n",
       "      <th></th>\n",
       "      <th></th>\n",
       "      <th></th>\n",
       "      <th></th>\n",
       "      <th></th>\n",
       "      <th></th>\n",
       "      <th></th>\n",
       "      <th></th>\n",
       "      <th></th>\n",
       "      <th></th>\n",
       "      <th></th>\n",
       "      <th></th>\n",
       "      <th></th>\n",
       "      <th></th>\n",
       "      <th></th>\n",
       "      <th></th>\n",
       "      <th></th>\n",
       "      <th></th>\n",
       "      <th></th>\n",
       "    </tr>\n",
       "  </thead>\n",
       "  <tbody>\n",
       "    <tr>\n",
       "      <th>1</th>\n",
       "      <td>0.0</td>\n",
       "      <td>0.0</td>\n",
       "      <td>0.0</td>\n",
       "      <td>0.0</td>\n",
       "      <td>0.0</td>\n",
       "      <td>0.0</td>\n",
       "      <td>0.0</td>\n",
       "      <td>0.0</td>\n",
       "      <td>0.0</td>\n",
       "      <td>0.0</td>\n",
       "      <td>...</td>\n",
       "      <td>0.0</td>\n",
       "      <td>0.0</td>\n",
       "      <td>1.0</td>\n",
       "      <td>0.0</td>\n",
       "      <td>1.0</td>\n",
       "      <td>0.0</td>\n",
       "      <td>0.0</td>\n",
       "      <td>0.0</td>\n",
       "      <td>0.0</td>\n",
       "      <td>0.0</td>\n",
       "    </tr>\n",
       "    <tr>\n",
       "      <th>2</th>\n",
       "      <td>0.0</td>\n",
       "      <td>0.0</td>\n",
       "      <td>0.0</td>\n",
       "      <td>0.0</td>\n",
       "      <td>0.0</td>\n",
       "      <td>0.0</td>\n",
       "      <td>0.0</td>\n",
       "      <td>0.0</td>\n",
       "      <td>0.0</td>\n",
       "      <td>0.0</td>\n",
       "      <td>...</td>\n",
       "      <td>0.0</td>\n",
       "      <td>0.0</td>\n",
       "      <td>0.0</td>\n",
       "      <td>0.0</td>\n",
       "      <td>0.0</td>\n",
       "      <td>0.0</td>\n",
       "      <td>0.0</td>\n",
       "      <td>0.0</td>\n",
       "      <td>0.0</td>\n",
       "      <td>0.0</td>\n",
       "    </tr>\n",
       "    <tr>\n",
       "      <th>3</th>\n",
       "      <td>0.0</td>\n",
       "      <td>0.0</td>\n",
       "      <td>0.0</td>\n",
       "      <td>0.0</td>\n",
       "      <td>0.0</td>\n",
       "      <td>1.0</td>\n",
       "      <td>0.0</td>\n",
       "      <td>0.0</td>\n",
       "      <td>0.0</td>\n",
       "      <td>0.0</td>\n",
       "      <td>...</td>\n",
       "      <td>0.0</td>\n",
       "      <td>0.0</td>\n",
       "      <td>1.0</td>\n",
       "      <td>0.0</td>\n",
       "      <td>0.0</td>\n",
       "      <td>0.0</td>\n",
       "      <td>0.0</td>\n",
       "      <td>0.0</td>\n",
       "      <td>0.0</td>\n",
       "      <td>0.0</td>\n",
       "    </tr>\n",
       "    <tr>\n",
       "      <th>4</th>\n",
       "      <td>0.0</td>\n",
       "      <td>0.0</td>\n",
       "      <td>0.0</td>\n",
       "      <td>0.0</td>\n",
       "      <td>0.0</td>\n",
       "      <td>0.0</td>\n",
       "      <td>0.0</td>\n",
       "      <td>0.0</td>\n",
       "      <td>0.0</td>\n",
       "      <td>0.0</td>\n",
       "      <td>...</td>\n",
       "      <td>0.0</td>\n",
       "      <td>0.0</td>\n",
       "      <td>0.0</td>\n",
       "      <td>0.0</td>\n",
       "      <td>0.0</td>\n",
       "      <td>0.0</td>\n",
       "      <td>0.0</td>\n",
       "      <td>0.0</td>\n",
       "      <td>0.0</td>\n",
       "      <td>0.0</td>\n",
       "    </tr>\n",
       "    <tr>\n",
       "      <th>5</th>\n",
       "      <td>0.0</td>\n",
       "      <td>0.0</td>\n",
       "      <td>0.0</td>\n",
       "      <td>0.0</td>\n",
       "      <td>0.0</td>\n",
       "      <td>0.0</td>\n",
       "      <td>0.0</td>\n",
       "      <td>0.0</td>\n",
       "      <td>0.0</td>\n",
       "      <td>0.0</td>\n",
       "      <td>...</td>\n",
       "      <td>0.0</td>\n",
       "      <td>0.0</td>\n",
       "      <td>0.0</td>\n",
       "      <td>0.0</td>\n",
       "      <td>0.0</td>\n",
       "      <td>0.0</td>\n",
       "      <td>0.0</td>\n",
       "      <td>0.0</td>\n",
       "      <td>0.0</td>\n",
       "      <td>0.0</td>\n",
       "    </tr>\n",
       "  </tbody>\n",
       "</table>\n",
       "<p>5 rows × 714 columns</p>\n",
       "</div>"
      ],
      "text/plain": [
       "article_id  0.0     2.0     4.0     8.0     9.0     12.0    14.0    15.0    \\\n",
       "user_id                                                                      \n",
       "1              0.0     0.0     0.0     0.0     0.0     0.0     0.0     0.0   \n",
       "2              0.0     0.0     0.0     0.0     0.0     0.0     0.0     0.0   \n",
       "3              0.0     0.0     0.0     0.0     0.0     1.0     0.0     0.0   \n",
       "4              0.0     0.0     0.0     0.0     0.0     0.0     0.0     0.0   \n",
       "5              0.0     0.0     0.0     0.0     0.0     0.0     0.0     0.0   \n",
       "\n",
       "article_id  16.0    18.0    ...  1434.0  1435.0  1436.0  1437.0  1439.0  \\\n",
       "user_id                     ...                                           \n",
       "1              0.0     0.0  ...     0.0     0.0     1.0     0.0     1.0   \n",
       "2              0.0     0.0  ...     0.0     0.0     0.0     0.0     0.0   \n",
       "3              0.0     0.0  ...     0.0     0.0     1.0     0.0     0.0   \n",
       "4              0.0     0.0  ...     0.0     0.0     0.0     0.0     0.0   \n",
       "5              0.0     0.0  ...     0.0     0.0     0.0     0.0     0.0   \n",
       "\n",
       "article_id  1440.0  1441.0  1442.0  1443.0  1444.0  \n",
       "user_id                                             \n",
       "1              0.0     0.0     0.0     0.0     0.0  \n",
       "2              0.0     0.0     0.0     0.0     0.0  \n",
       "3              0.0     0.0     0.0     0.0     0.0  \n",
       "4              0.0     0.0     0.0     0.0     0.0  \n",
       "5              0.0     0.0     0.0     0.0     0.0  \n",
       "\n",
       "[5 rows x 714 columns]"
      ]
     },
     "execution_count": 32,
     "metadata": {},
     "output_type": "execute_result"
    }
   ],
   "source": [
    "# quick look at the matrix\n",
    "user_item_matrix.head()"
   ]
  },
  {
   "cell_type": "markdown",
   "metadata": {},
   "source": [
    "`2.` In this situation, you can use Singular Value Decomposition from [numpy](https://docs.scipy.org/doc/numpy-1.14.0/reference/generated/numpy.linalg.svd.html) on the user-item matrix.  Use the cell to perfrom SVD, and explain why this is different than in the lesson."
   ]
  },
  {
   "cell_type": "code",
   "execution_count": 33,
   "metadata": {},
   "outputs": [],
   "source": [
    "# Perform SVD on the User-Item Matrix Here\n",
    "\n",
    "u, s, vt = np.linalg.svd(user_item_matrix) # use the built in to get the three matrices"
   ]
  },
  {
   "cell_type": "markdown",
   "metadata": {},
   "source": [
    "There is no NaN"
   ]
  },
  {
   "cell_type": "markdown",
   "metadata": {},
   "source": [
    "`3.` Now for the tricky part, how do we choose the number of latent features to use?  Running the below cell, you can see that as the number of latent features increases, we obtain a lower error rate on making predictions for the 1 and 0 values in the user-item matrix.  Run the cell below to get an idea of how the accuracy improves as we increase the number of latent features."
   ]
  },
  {
   "cell_type": "code",
   "execution_count": 34,
   "metadata": {},
   "outputs": [
    {
     "data": {
      "image/png": "[encoded data removed]",
      "text/plain": [
       "<Figure size 432x288 with 1 Axes>"
      ]
     },
     "metadata": {
      "needs_background": "light"
     },
     "output_type": "display_data"
    }
   ],
   "source": [
    "num_latent_feats = np.arange(10,700+10,20)\n",
    "sum_errs = []\n",
    "\n",
    "for k in num_latent_feats:\n",
    "    # restructure with k latent features\n",
    "    s_new, u_new, vt_new = np.diag(s[:k]), u[:, :k], vt[:k, :]\n",
    "    \n",
    "    # take dot product\n",
    "    user_item_est = np.around(np.dot(np.dot(u_new, s_new), vt_new))\n",
    "    \n",
    "    # compute error for each prediction to actual value\n",
    "    diffs = np.subtract(user_item_matrix, user_item_est)\n",
    "    \n",
    "    # total errors and keep track of them\n",
    "    err = np.sum(np.sum(np.abs(diffs)))\n",
    "    sum_errs.append(err)\n",
    "    \n",
    "    \n",
    "plt.plot(num_latent_feats, 1 - np.array(sum_errs)/df.shape[0]);\n",
    "plt.xlabel('Number of Latent Features');\n",
    "plt.ylabel('Accuracy');\n",
    "plt.title('Accuracy vs. Number of Latent Features');"
   ]
  },
  {
   "cell_type": "markdown",
   "metadata": {},
   "source": [
    "`4.` From the above, we can't really be sure how many features to use, because simply having a better way to predict the 1's and 0's of the matrix doesn't exactly give us an indication of if we are able to make good recommendations.  Instead, we might split our dataset into a training and test set of data, as shown in the cell below.  \n",
    "\n",
    "Use the code from question 3 to understand the impact on accuracy of the training and test sets of data with different numbers of latent features. Using the split below: \n",
    "\n",
    "* How many users can we make predictions for in the test set?  \n",
    "* How many users are we not able to make predictions for because of the cold start problem?\n",
    "* How many articles can we make predictions for in the test set?  \n",
    "* How many articles are we not able to make predictions for because of the cold start problem?"
   ]
  },
  {
   "cell_type": "code",
   "execution_count": 35,
   "metadata": {},
   "outputs": [],
   "source": [
    "df_train = df.head(40000)\n",
    "df_test = df.tail(5993)\n",
    "\n",
    "def create_test_and_train_user_item(df_train, df_test):\n",
    "    '''\n",
    "    INPUT:\n",
    "    df_train - training dataframe\n",
    "    df_test - test dataframe\n",
    "    \n",
    "    OUTPUT:\n",
    "    user_item_train - a user-item matrix of the training dataframe \n",
    "                      (unique users for each row and unique articles for each column)\n",
    "    user_item_test - a user-item matrix of the testing dataframe \n",
    "                    (unique users for each row and unique articles for each column)\n",
    "    test_idx - all of the test user ids\n",
    "    test_arts - all of the test article ids\n",
    "    \n",
    "    '''\n",
    "    user_item_train= create_user_item_matrix(df_train)\n",
    "    user_item_test= create_user_item_matrix(df_test)\n",
    "    test_arts = user_item_test.columns\n",
    "    test_idx= user_item_test.index\n",
    "    return user_item_train, user_item_test, test_idx, test_arts\n",
    "\n",
    "user_item_train, user_item_test, test_idx, test_arts = create_test_and_train_user_item(df_train, df_test)\n"
   ]
  },
  {
   "cell_type": "code",
   "execution_count": 36,
   "metadata": {},
   "outputs": [
    {
     "name": "stdout",
     "output_type": "stream",
     "text": [
      "(574,)\n",
      "(682,)\n"
     ]
    }
   ],
   "source": [
    "print(test_arts.shape)\n",
    "print(test_idx.shape)"
   ]
  },
  {
   "cell_type": "code",
   "execution_count": 37,
   "metadata": {},
   "outputs": [
    {
     "name": "stdout",
     "output_type": "stream",
     "text": [
      "Awesome job!  That's right!  All of the test articles are in the training data, but there are only 20 test users that were also in the training set.  All of the other users that are in the test set we have no data on.  Therefore, we cannot make predictions for these users using SVD.\n"
     ]
    }
   ],
   "source": [
    "# Replace the values in the dictionary below\n",
    "a = 662 \n",
    "b = 574 \n",
    "c = 20 \n",
    "d = 0 \n",
    "\n",
    "\n",
    "sol_4_dict = {\n",
    "    'How many users can we make predictions for in the test set?': c, \n",
    "    'How many users in the test set are we not able to make predictions for because of the cold start problem?': a, \n",
    "    'How many articles can we make predictions for in the test set?': b,\n",
    "    'How many articles in the test set are we not able to make predictions for because of the cold start problem?': d\n",
    "}\n",
    "\n",
    "t.sol_4_test(sol_4_dict)"
   ]
  },
  {
   "cell_type": "markdown",
   "metadata": {},
   "source": [
    "`5.` Now use the **user_item_train** dataset from above to find **U**, **S**, and **V** transpose using SVD. Then find the subset of rows in the **user_item_test** dataset that you can predict using this matrix decomposition with different numbers of latent features to see how many features makes sense to keep based on the accuracy on the test data. This will require combining what was done in questions `2` - `4`.\n",
    "\n",
    "Use the cells below to explore how well SVD works towards making predictions for recommendations on the test data.  "
   ]
  },
  {
   "cell_type": "code",
   "execution_count": null,
   "metadata": {},
   "outputs": [],
   "source": []
  },
  {
   "cell_type": "code",
   "execution_count": 38,
   "metadata": {},
   "outputs": [
    {
     "name": "stdout",
     "output_type": "stream",
     "text": [
      "(4487, 714) (714,) (714, 714)\n"
     ]
    }
   ],
   "source": [
    "# fit SVD on the user_item_train matrix\n",
    "u_train, s_train, vt_train = np.linalg.svd(user_item_train, full_matrices=False)# fit svd similar to above then use the cells below\n",
    "print(u_train.shape, s_train.shape, vt_train.shape )"
   ]
  },
  {
   "cell_type": "code",
   "execution_count": 46,
   "metadata": {},
   "outputs": [
    {
     "name": "stdout",
     "output_type": "stream",
     "text": [
      "(20, 714) (714,) (714, 574)\n"
     ]
    }
   ],
   "source": [
    "test_users = np.intersect1d(user_item_train.index.values , user_item_test.index.values)\n",
    "test_articles = np.intersect1d(user_item_train.columns , user_item_test.columns)\n",
    "user_item_actual_test= user_item_test.loc[test_users, test_articles]\n",
    "test_rows_idx = user_item_train.index.isin(test_idx)\n",
    "test_col_idxs = user_item_train.columns.isin(test_arts)\n",
    "u_test = u_train[test_rows_idx, :]\n",
    "vt_test = vt_train[:, test_col_idxs]\n",
    "print(u_test.shape, s_train.shape, vt_test.shape )"
   ]
  },
  {
   "cell_type": "code",
   "execution_count": 47,
   "metadata": {},
   "outputs": [],
   "source": [
    "# Use these cells to see how well you can use the training \n",
    "# decomposition to predict on test data\n",
    "num_latent_feats = np.arange(10,700+10,20)\n",
    "sum_errs = []\n",
    "\n",
    "#Computing the error on the test set\n",
    "for k in num_latent_feats:\n",
    "    #reshape the matrices\n",
    "    s_train_new, u_train_new, vt_train_new = np.diag(s_train[:k]), u_train[:, :k], vt_train[:k, :]\n",
    "    u_test_new, vt_test_new = u_test[:, :k], vt_test[:k, :]\n",
    "    # take dot product\n",
    "    user_item_test_est = np.dot(np.dot(u_test_new, s_train_new), vt_test_new)\n",
    "    diffs = np.subtract(user_item_actual_test, user_item_test_est)\n",
    "    \n",
    "    # total errors and keep track of them\n",
    "    err = np.sum(np.sum(np.abs(diffs)))\n",
    "    sum_errs.append(err)\n",
    "    "
   ]
  },
  {
   "cell_type": "code",
   "execution_count": 48,
   "metadata": {},
   "outputs": [
    {
     "data": {
      "image/png": "[encoded data removed]",
      "text/plain": [
       "<Figure size 432x288 with 1 Axes>"
      ]
     },
     "metadata": {
      "needs_background": "light"
     },
     "output_type": "display_data"
    }
   ],
   "source": [
    "plt.plot(num_latent_feats, 1 - np.array(sum_errs)/df.shape[0]);\n",
    "plt.xlabel('Number of Latent Features');\n",
    "plt.ylabel('Accuracy');\n",
    "plt.title('Accuracy vs. Number of Latent Features');"
   ]
  },
  {
   "cell_type": "code",
   "execution_count": null,
   "metadata": {},
   "outputs": [],
   "source": []
  },
  {
   "cell_type": "markdown",
   "metadata": {
    "collapsed": true
   },
   "source": [
    "`6.` Use the cell below to comment on the results you found in the previous question. Given the circumstances of your results, discuss what you might do to determine if the recommendations you make with any of the above recommendation systems are an improvement to how users currently find articles? "
   ]
  },
  {
   "cell_type": "markdown",
   "metadata": {},
   "source": [
    "With 20 articles to compute the error the result are anyway limited. The algorithm seems to predict everything perfectly. Probably cause by similarity in the data."
   ]
  },
  {
   "cell_type": "markdown",
   "metadata": {
    "collapsed": true
   },
   "source": [
    "<a id='conclusions'></a>\n",
    "### Extras\n",
    "Using your workbook, you could now save your recommendations for each user, develop a class to make new predictions and update your results, and make a flask app to deploy your results.  These tasks are beyond what is required for this project.  However, from what you learned in the lessons, you certainly capable of taking these tasks on to improve upon your work here!\n",
    "\n",
    "\n",
    "## Conclusion\n",
    "\n",
    "> Congratulations!  You have reached the end of the Recommendations with IBM project! \n",
    "\n",
    "> **Tip**: Once you are satisfied with your work here, check over your report to make sure that it is satisfies all the areas of the rubric (found on the project submission page at the end of the lesson). You should also probably remove all of the \"Tips\" like this one so that the presentation is as polished as possible.\n",
    "\n",
    "\n",
    "## Directions to Submit\n",
    "\n",
    "> Before you submit your project, you need to create a .html or .pdf version of this notebook in the workspace here. To do that, run the code cell below. If it worked correctly, you should get a return code of 0, and you should see the generated .html file in the workspace directory (click on the orange Jupyter icon in the upper left).\n",
    "\n",
    "> Alternatively, you can download this report as .html via the **File** > **Download as** submenu, and then manually upload it into the workspace directory by clicking on the orange Jupyter icon in the upper left, then using the Upload button.\n",
    "\n",
    "> Once you've done this, you can submit your project by clicking on the \"Submit Project\" button in the lower right here. This will create and submit a zip file with this .ipynb doc and the .html or .pdf version you created. Congratulations! "
   ]
  },
  {
   "cell_type": "code",
   "execution_count": null,
   "metadata": {},
   "outputs": [],
   "source": [
    "from subprocess import call\n",
    "call(['python', '-m', 'nbconvert', 'Recommendations_with_IBM.ipynb'])"
   ]
  }
 ],
 "metadata": {
  "kernelspec": {
   "display_name": "Python 3",
   "language": "python",
   "name": "python3"
  },
  "language_info": {
   "codemirror_mode": {
    "name": "ipython",
    "version": 3
   },
   "file_extension": ".py",
   "mimetype": "text/x-python",
   "name": "python",
   "nbconvert_exporter": "python",
   "pygments_lexer": "ipython3",
   "version": "3.7.3"
  }
 },
 "nbformat": 4,
 "nbformat_minor": 2
}
